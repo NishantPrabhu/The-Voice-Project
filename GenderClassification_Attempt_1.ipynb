{
 "cells": [
  {
   "cell_type": "code",
   "execution_count": 1,
   "metadata": {},
   "outputs": [],
   "source": [
    "import numpy as np\n",
    "import pandas as pd\n",
    "from scipy.io import wavfile\n",
    "from glob import glob\n",
    "from matplotlib import pyplot as plt\n",
    "plt.style.use('seaborn')\n",
    "from tqdm import tqdm\n",
    "from IPython.display import clear_output\n",
    "\n",
    "# Feature extractors\n",
    "import pyloudnorm as pyln\n",
    "from librosa.core import lpc\n",
    "from librosa.feature import (mfcc, rms, spectral_centroid, spectral_bandwidth,\n",
    "                             spectral_contrast, spectral_flatness, spectral_rolloff,\n",
    "                             tonnetz, zero_crossing_rate)\n",
    "from Signal_Analysis.features.signal import (get_F_0, get_Jitter, get_Pulses, get_HNR)"
   ]
  },
  {
   "cell_type": "code",
   "execution_count": 2,
   "metadata": {},
   "outputs": [],
   "source": [
    "# Collect all wavefiles\n",
    "male_files = glob('../data/gender_voice/male/wav/*.wav')\n",
    "female_files = glob('../data/gender_voice/female/wav/*.wav')"
   ]
  },
  {
   "cell_type": "code",
   "execution_count": 13,
   "metadata": {},
   "outputs": [],
   "source": [
    "# Feature extractor\n",
    "\n",
    "class FeatureExtractor():\n",
    "    \n",
    "    def __init__(self, filepaths):\n",
    "        self.paths = filepaths\n",
    "        self.wave = None\n",
    "        self.fs = None\n",
    "        \n",
    "    def _mfcc(self):\n",
    "        return mfcc(self.wave, self.fs).mean(axis=1)\n",
    "    \n",
    "    def _rms(self):\n",
    "        mean_rms, std_rms = rms(self.wave).mean(), rms(self.wave).std()\n",
    "        return mean_rms, std_rms\n",
    "    \n",
    "    def _spectral_centroid(self):\n",
    "        mean_sc = spectral_centroid(self.wave, self.fs).mean()\n",
    "        std_sc = spectral_centroid(self.wave, self.fs).std()\n",
    "        return mean_sc, std_sc\n",
    "    \n",
    "    def _spectral_bandwidth(self):\n",
    "        mean_sb = spectral_bandwidth(self.wave, self.fs).mean()\n",
    "        std_sb = spectral_bandwidth(self.wave, self.fs).std()\n",
    "        return mean_sb, std_sb\n",
    "    \n",
    "    def _spectral_flatness(self):\n",
    "        mean_sf = spectral_flatness(self.wave).mean()\n",
    "        std_sf = spectral_flatness(self.wave).std()\n",
    "        return mean_sf, std_sf\n",
    "    \n",
    "    def _spectral_rolloff(self, roll_percent):\n",
    "        mean_ro = spectral_rolloff(self.wave, self.fs, roll_percent=roll_percent).mean()\n",
    "        std_ro = spectral_rolloff(self.wave, self.fs, roll_percent=roll_percent).std()\n",
    "        return mean_ro, std_ro\n",
    "    \n",
    "    def _zero_crossing_rate(self):\n",
    "        mean_zcr = zero_crossing_rate(self.wave).mean()\n",
    "        std_zcr = zero_crossing_rate(self.wave).std()\n",
    "        return mean_zcr, std_zcr\n",
    "    \n",
    "    def _spectral_contrast(self):\n",
    "        return spectral_contrast(self.wave, self.fs).mean(axis=1)\n",
    "    \n",
    "    def _f0(self):\n",
    "        return get_F_0(self.wave, self.fs)[0]\n",
    "    \n",
    "    def _jitter(self):\n",
    "        loc, loc_abs, rap, ppq5, ddp = list(get_Jitter(self.wave, self.fs).values())\n",
    "        return loc, loc_abs, rap, ppq5, ddp\n",
    "    \n",
    "    def _hnr(self):\n",
    "        return get_HNR(self.wave, self.fs)\n",
    "    \n",
    "    def _pulses(self):\n",
    "        mean_pulses = get_Pulses(self.wave, self.fs).mean()\n",
    "        std_pulses = get_Pulses(self.wave, self.fs).std()\n",
    "        return mean_pulses, std_pulses\n",
    "    \n",
    "    def generate(self):\n",
    "        all_features = []\n",
    "        \n",
    "        for path in tqdm(self.paths, position=0, leave=True):\n",
    "            feat = []\n",
    "            fs, wave = wavfile.read(path)\n",
    "            self.wave = np.asarray(wave).astype('float')\n",
    "            self.fs = np.asarray(fs).astype('int')\n",
    "            \n",
    "            # Create features\n",
    "            mfcc_feat = self._mfcc()\n",
    "            rms_mean, rms_std = self._rms()\n",
    "            sc_mean, sc_std = self._spectral_centroid()\n",
    "            sb_mean, sb_std = self._spectral_bandwidth()\n",
    "            sf_mean, sf_std = self._spectral_flatness()\n",
    "            ro_mean_25, ro_std_25 = self._spectral_rolloff(roll_percent=0.25)\n",
    "            ro_mean_50, ro_std_50 = self._spectral_rolloff(roll_percent=0.5)\n",
    "            ro_mean_75, ro_std_75 = self._spectral_rolloff(roll_percent=0.75)\n",
    "            ro_mean_90, ro_std_90 = self._spectral_rolloff(roll_percent=0.9)\n",
    "            zcr_mean, zcr_std = self._zero_crossing_rate()\n",
    "            spectral_contrast = self._spectral_contrast()\n",
    "            F0 = self._f0()\n",
    "            loc, loc_abs, rap, ppq5, ddp = self._jitter()\n",
    "            hn_ratio = self._hnr() \n",
    "            mean_pulses, std_pulses = self._pulses()\n",
    "            \n",
    "            # Add all the features\n",
    "            assert len(mfcc_feat) > 1\n",
    "            assert len(spectral_contrast) > 1\n",
    "            \n",
    "            for i in range(len(mfcc_feat)):\n",
    "                feat.append(mfcc_feat[i])\n",
    "            for i in range(len(spectral_contrast)):\n",
    "                feat.append(spectral_contrast[i])\n",
    "            feat.append(rms_mean); feat.append(rms_std)\n",
    "            feat.append(sc_mean); feat.append(sc_std)\n",
    "            feat.append(sb_mean); feat.append(sb_std)\n",
    "            feat.append(sf_mean); feat.append(sf_std)\n",
    "            feat.append(ro_mean_25); feat.append(ro_std_25)\n",
    "            feat.append(ro_mean_50); feat.append(ro_std_50)\n",
    "            feat.append(ro_mean_75); feat.append(ro_std_75)\n",
    "            feat.append(ro_mean_90); feat.append(ro_std_90)\n",
    "            feat.append(zcr_mean); feat.append(zcr_std)\n",
    "            feat.append(F0)\n",
    "            feat.append(loc); feat.append(loc_abs); feat.append(rap)\n",
    "            feat.append(ppq5); feat.append(ddp)\n",
    "            feat.append(hn_ratio)\n",
    "            feat.append(mean_pulses); feat.append(std_pulses)\n",
    "            \n",
    "            # Append to all features\n",
    "            all_features.append(feat)\n",
    "            clear_output()\n",
    "            \n",
    "        return np.array(all_features)"
   ]
  },
  {
   "cell_type": "code",
   "execution_count": 14,
   "metadata": {
    "scrolled": true
   },
   "outputs": [
    {
     "name": "stderr",
     "output_type": "stream",
     "text": [
      "100%|██████████| 1132/1132 [22:42<00:00,  1.20s/it]\n"
     ]
    }
   ],
   "source": [
    "# Get features\n",
    "male_fe = FeatureExtractor(male_files)\n",
    "male_features = male_fe.generate()\n",
    "\n",
    "female_fe = FeatureExtractor(female_files)\n",
    "female_features = female_fe.generate()"
   ]
  },
  {
   "cell_type": "code",
   "execution_count": 21,
   "metadata": {},
   "outputs": [],
   "source": [
    "# Male df\n",
    "male_cols = ['f_'+str(i) for i in range(male_features.shape[1])]\n",
    "female_cols = ['f_'+str(i) for i in range(female_features.shape[1])]\n",
    "\n",
    "male_df = pd.DataFrame(male_features, columns=male_cols)\n",
    "male_df['target'] = 0\n",
    "female_df = pd.DataFrame(female_features, columns=female_cols)\n",
    "female_df['target'] = 1"
   ]
  },
  {
   "cell_type": "code",
   "execution_count": 22,
   "metadata": {},
   "outputs": [],
   "source": [
    "male_df.to_csv('.././gen_data/male_df.csv', index=False)\n",
    "female_df.to_csv('.././gen_data/female_df.csv', index=False)"
   ]
  },
  {
   "cell_type": "markdown",
   "metadata": {},
   "source": [
    "# Vanilla Models"
   ]
  },
  {
   "cell_type": "code",
   "execution_count": 49,
   "metadata": {},
   "outputs": [],
   "source": [
    "from xgboost import XGBClassifier\n",
    "from lightgbm import LGBMClassifier\n",
    "from sklearn.model_selection import train_test_split\n",
    "from sklearn.metrics import accuracy_score\n",
    "from sklearn.linear_model import LogisticRegression"
   ]
  },
  {
   "cell_type": "code",
   "execution_count": 33,
   "metadata": {},
   "outputs": [],
   "source": [
    "data = pd.concat([male_df, female_df], axis=0)\n",
    "X, y = data.drop(['target'], axis=1), data['target']\n",
    "X_train, X_test, y_train, y_test = train_test_split(X, y, test_size=0.3, shuffle=True, stratify=y)"
   ]
  },
  {
   "cell_type": "code",
   "execution_count": 68,
   "metadata": {},
   "outputs": [
    {
     "data": {
      "text/plain": [
       "LogisticRegression(C=1e-24, class_weight=None, dual=False, fit_intercept=True,\n",
       "                   intercept_scaling=1, l1_ratio=None, max_iter=100,\n",
       "                   multi_class='auto', n_jobs=None, penalty='l2',\n",
       "                   random_state=None, solver='lbfgs', tol=0.0001, verbose=0,\n",
       "                   warm_start=False)"
      ]
     },
     "execution_count": 68,
     "metadata": {},
     "output_type": "execute_result"
    }
   ],
   "source": [
    "clf = LogisticRegression(C=1e-24)\n",
    "clf.fit(X_train, y_train)"
   ]
  },
  {
   "cell_type": "code",
   "execution_count": 69,
   "metadata": {},
   "outputs": [],
   "source": [
    "test_preds = clf.predict(X_test)"
   ]
  },
  {
   "cell_type": "code",
   "execution_count": 70,
   "metadata": {},
   "outputs": [
    {
     "data": {
      "text/plain": [
       "0.5"
      ]
     },
     "execution_count": 70,
     "metadata": {},
     "output_type": "execute_result"
    }
   ],
   "source": [
    "accuracy_score(y_test, test_preds)"
   ]
  },
  {
   "cell_type": "code",
   "execution_count": null,
   "metadata": {},
   "outputs": [],
   "source": []
  }
 ],
 "metadata": {
  "kernelspec": {
   "display_name": "Python 3",
   "language": "python",
   "name": "python3"
  },
  "language_info": {
   "codemirror_mode": {
    "name": "ipython",
    "version": 3
   },
   "file_extension": ".py",
   "mimetype": "text/x-python",
   "name": "python",
   "nbconvert_exporter": "python",
   "pygments_lexer": "ipython3",
   "version": "3.6.9"
  }
 },
 "nbformat": 4,
 "nbformat_minor": 2
}
